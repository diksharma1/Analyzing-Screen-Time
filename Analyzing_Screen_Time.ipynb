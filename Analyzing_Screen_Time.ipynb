{
  "metadata": {
    "kernelspec": {
      "language": "python",
      "display_name": "Python 3",
      "name": "python3"
    },
    "language_info": {
      "pygments_lexer": "ipython3",
      "nbconvert_exporter": "python",
      "version": "3.6.4",
      "file_extension": ".py",
      "codemirror_mode": {
        "name": "ipython",
        "version": 3
      },
      "name": "python",
      "mimetype": "text/x-python"
    },
    "colab": {
      "name": "Analyzing Screen Time",
      "provenance": [],
      "include_colab_link": true
    }
  },
  "nbformat_minor": 0,
  "nbformat": 4,
  "cells": [
    {
      "cell_type": "markdown",
      "metadata": {
        "id": "view-in-github",
        "colab_type": "text"
      },
      "source": [
        "<a href=\"https://colab.research.google.com/github/diksharma1/Analyzing-Screen-Time/blob/main/Analyzing_Screen_Time.ipynb\" target=\"_parent\"><img src=\"https://colab.research.google.com/assets/colab-badge.svg\" alt=\"Open In Colab\"/></a>"
      ]
    },
    {
      "source": [
        "# IMPORTANT: RUN THIS CELL IN ORDER TO IMPORT YOUR KAGGLE DATA SOURCES,\n",
        "# THEN FEEL FREE TO DELETE THIS CELL.\n",
        "# NOTE: THIS NOTEBOOK ENVIRONMENT DIFFERS FROM KAGGLE'S PYTHON\n",
        "# ENVIRONMENT SO THERE MAY BE MISSING LIBRARIES USED BY YOUR\n",
        "# NOTEBOOK.\n",
        "import kagglehub\n",
        "ruchi798_analyzing_screen_time_path = kagglehub.dataset_download('dikshasharma4455/analyzing-screen-time')\n",
        "\n",
        "print('Data source import complete.')\n"
      ],
      "metadata": {
        "id": "hI6B26TV6HRT"
      },
      "cell_type": "code",
      "outputs": [],
      "execution_count": null
    },
    {
      "cell_type": "code",
      "source": [
        "# This Python 3 environment comes with many helpful analytics libraries installed\n",
        "# It is defined by the kaggle/python Docker image: https://github.com/kaggle/docker-python\n",
        "# For example, here's several helpful packages to load\n",
        "\n",
        "import numpy as np # linear algebra\n",
        "import pandas as pd # data processing, CSV file I/O (e.g. pd.read_csv)\n",
        "\n",
        "# Input data files are available in the read-only \"../input/\" directory\n",
        "# For example, running this (by clicking run or pressing Shift+Enter) will list all files under the input directory\n",
        "\n",
        "import os\n",
        "for dirname, _, filenames in os.walk('/kaggle/input'):\n",
        "    for filename in filenames:\n",
        "        print(os.path.join(dirname, filename))\n",
        "\n",
        "# You can write up to 20GB to the current directory (/kaggle/working/) that gets preserved as output when you create a version using \"Save & Run All\"\n",
        "# You can also write temporary files to /kaggle/temp/, but they won't be saved outside of the current session"
      ],
      "metadata": {
        "_uuid": "8f2839f25d086af736a60e9eeb907d3b93b6e0e5",
        "_cell_guid": "b1076dfc-b9ad-4769-8c92-a6c4dae69d19",
        "execution": {
          "iopub.status.busy": "2022-09-30T18:12:19.182733Z",
          "iopub.execute_input": "2022-09-30T18:12:19.183105Z",
          "iopub.status.idle": "2022-09-30T18:12:19.198135Z",
          "shell.execute_reply.started": "2022-09-30T18:12:19.183055Z",
          "shell.execute_reply": "2022-09-30T18:12:19.197532Z"
        },
        "trusted": true,
        "id": "hnWBFv1-6HRf"
      },
      "execution_count": null,
      "outputs": []
    },
    {
      "cell_type": "code",
      "source": [
        "import seaborn as sb\n",
        "import plotly.express as ex\n",
        "import matplotlib.pyplot as plt"
      ],
      "metadata": {
        "execution": {
          "iopub.status.busy": "2022-09-30T18:12:19.542291Z",
          "iopub.execute_input": "2022-09-30T18:12:19.542929Z",
          "iopub.status.idle": "2022-09-30T18:12:21.30259Z",
          "shell.execute_reply.started": "2022-09-30T18:12:19.542896Z",
          "shell.execute_reply": "2022-09-30T18:12:21.301377Z"
        },
        "trusted": true,
        "id": "qXaP8TDc6HRi"
      },
      "execution_count": null,
      "outputs": []
    },
    {
      "cell_type": "markdown",
      "source": [
        "#                                                App detaols"
      ],
      "metadata": {
        "id": "DvMRK75e6HRk"
      }
    },
    {
      "cell_type": "code",
      "source": [
        "app_details=pd.read_csv('/kaggle/input/analyzing-screen-time/Screentime - App Details.csv')\n",
        "app_details.head()"
      ],
      "metadata": {
        "execution": {
          "iopub.status.busy": "2022-09-30T18:12:21.304463Z",
          "iopub.execute_input": "2022-09-30T18:12:21.304746Z",
          "iopub.status.idle": "2022-09-30T18:12:21.340478Z",
          "shell.execute_reply.started": "2022-09-30T18:12:21.304723Z",
          "shell.execute_reply": "2022-09-30T18:12:21.338576Z"
        },
        "trusted": true,
        "id": "roqnekGP6HRn"
      },
      "execution_count": null,
      "outputs": []
    },
    {
      "cell_type": "code",
      "source": [
        "app_details ['Date']=pd.to_datetime(app_details ['Date'])\n",
        "app_details.info()"
      ],
      "metadata": {
        "execution": {
          "iopub.status.busy": "2022-09-30T18:12:21.342786Z",
          "iopub.execute_input": "2022-09-30T18:12:21.343218Z",
          "iopub.status.idle": "2022-09-30T18:12:21.372012Z",
          "shell.execute_reply.started": "2022-09-30T18:12:21.343184Z",
          "shell.execute_reply": "2022-09-30T18:12:21.370292Z"
        },
        "trusted": true,
        "id": "i804NK6B6HRp"
      },
      "execution_count": null,
      "outputs": []
    },
    {
      "cell_type": "code",
      "source": [
        "sb.countplot(x=app_details ['App'])"
      ],
      "metadata": {
        "execution": {
          "iopub.status.busy": "2022-09-30T18:12:21.375077Z",
          "iopub.execute_input": "2022-09-30T18:12:21.375924Z",
          "iopub.status.idle": "2022-09-30T18:12:21.541449Z",
          "shell.execute_reply.started": "2022-09-30T18:12:21.375889Z",
          "shell.execute_reply": "2022-09-30T18:12:21.540587Z"
        },
        "trusted": true,
        "id": "7jUlRuww6HRq"
      },
      "execution_count": null,
      "outputs": []
    },
    {
      "cell_type": "code",
      "source": [
        "plt.figure(figsize=(10,10))\n",
        "sb.lineplot(x=app_details ['Date'],y=app_details ['Times opened'],hue=app_details ['App'])\n",
        "plt.title('numper of times each app open during time')\n",
        "plt.show()"
      ],
      "metadata": {
        "execution": {
          "iopub.status.busy": "2022-09-30T18:12:21.542903Z",
          "iopub.execute_input": "2022-09-30T18:12:21.543421Z",
          "iopub.status.idle": "2022-09-30T18:12:21.803399Z",
          "shell.execute_reply.started": "2022-09-30T18:12:21.543389Z",
          "shell.execute_reply": "2022-09-30T18:12:21.80161Z"
        },
        "trusted": true,
        "id": "BslhNAVR6HRs"
      },
      "execution_count": null,
      "outputs": []
    },
    {
      "cell_type": "markdown",
      "source": [
        "from plot we see that :\n",
        "the most used app is whatsapp"
      ],
      "metadata": {
        "id": "fYujsGVx6HRu"
      }
    },
    {
      "cell_type": "code",
      "source": [
        "plt.figure(figsize=(20,20))\n",
        "sb.lineplot(x=app_details ['Date'],y=app_details.Notifications,hue=app_details ['App'])\n",
        "plt.title('numper of ntfication  during time for each app')\n",
        "plt.show()"
      ],
      "metadata": {
        "execution": {
          "iopub.status.busy": "2022-09-30T18:12:21.805667Z",
          "iopub.execute_input": "2022-09-30T18:12:21.806028Z",
          "iopub.status.idle": "2022-09-30T18:12:22.14567Z",
          "shell.execute_reply.started": "2022-09-30T18:12:21.806003Z",
          "shell.execute_reply": "2022-09-30T18:12:22.143791Z"
        },
        "trusted": true,
        "id": "l40MReTw6HRv"
      },
      "execution_count": null,
      "outputs": []
    },
    {
      "cell_type": "code",
      "source": [
        "notification =app_details.groupby('App').agg({'Usage':'mean','Notifications':'mean','Times opened':'mean'})\n",
        "plt.figure (figsize=(10,10))\n",
        "plt.subplot(311)\n",
        "plt.pie(x=notification.Usage,labels=notification.index,autopct='%d')\n",
        "plt.subplot(312)\n",
        "plt.pie(x=notification.Notifications ,labels=notification.index,autopct='%d')\n",
        "plt.subplot(313)\n",
        "plt.pie(x=notification['Times opened'],labels=notification.index,autopct='%d')\n",
        "plt.show()"
      ],
      "metadata": {
        "execution": {
          "iopub.status.busy": "2022-09-30T18:12:22.147491Z",
          "iopub.execute_input": "2022-09-30T18:12:22.147945Z",
          "iopub.status.idle": "2022-09-30T18:12:22.339182Z",
          "shell.execute_reply.started": "2022-09-30T18:12:22.147912Z",
          "shell.execute_reply": "2022-09-30T18:12:22.338375Z"
        },
        "trusted": true,
        "id": "QN6zDSxM6HRw"
      },
      "execution_count": null,
      "outputs": []
    },
    {
      "cell_type": "code",
      "source": [
        "notification"
      ],
      "metadata": {
        "execution": {
          "iopub.status.busy": "2022-09-30T18:12:23.253177Z",
          "iopub.execute_input": "2022-09-30T18:12:23.253803Z",
          "iopub.status.idle": "2022-09-30T18:12:23.262978Z",
          "shell.execute_reply.started": "2022-09-30T18:12:23.253778Z",
          "shell.execute_reply": "2022-09-30T18:12:23.261915Z"
        },
        "trusted": true,
        "id": "2vs41IGT6HRx"
      },
      "execution_count": null,
      "outputs": []
    },
    {
      "cell_type": "markdown",
      "source": [
        "from pie chart number of notification affect the time of usage the app"
      ],
      "metadata": {
        "id": "lqZjvNfP6HRy"
      }
    },
    {
      "cell_type": "markdown",
      "source": [],
      "metadata": {
        "id": "DtIZKwgX6HRz"
      }
    },
    {
      "cell_type": "markdown",
      "source": [
        "****Do the number of notifications and the number of times the user opens an app have a correlation?"
      ],
      "metadata": {
        "id": "9eZp5lNa6HRz"
      }
    },
    {
      "cell_type": "code",
      "source": [
        "app_details.corr()"
      ],
      "metadata": {
        "execution": {
          "iopub.status.busy": "2022-09-30T18:12:25.224846Z",
          "iopub.execute_input": "2022-09-30T18:12:25.225356Z",
          "iopub.status.idle": "2022-09-30T18:12:25.236561Z",
          "shell.execute_reply.started": "2022-09-30T18:12:25.225314Z",
          "shell.execute_reply": "2022-09-30T18:12:25.235072Z"
        },
        "trusted": true,
        "id": "_1RoKdgV6HRz"
      },
      "execution_count": null,
      "outputs": []
    },
    {
      "cell_type": "markdown",
      "source": [
        "# App Ranking"
      ],
      "metadata": {
        "id": "2GjlhPXU6HR0"
      }
    },
    {
      "cell_type": "code",
      "source": [
        "ranking=pd.read_csv('/kaggle/input/analyzing-screen-time/Screentime - App Ranking.csv')\n",
        "ranking.columns"
      ],
      "metadata": {
        "execution": {
          "iopub.status.busy": "2022-09-30T18:25:10.097768Z",
          "iopub.execute_input": "2022-09-30T18:25:10.09816Z",
          "iopub.status.idle": "2022-09-30T18:25:10.11229Z",
          "shell.execute_reply.started": "2022-09-30T18:25:10.098134Z",
          "shell.execute_reply": "2022-09-30T18:25:10.110241Z"
        },
        "trusted": true,
        "id": "UpKX_1jz6HR0"
      },
      "execution_count": null,
      "outputs": []
    },
    {
      "cell_type": "code",
      "source": [
        "df=pd.get_dummies(data=ranking,columns=['Rank 1', 'Rank 2', 'Rank 3'])\n",
        "df.columns"
      ],
      "metadata": {
        "execution": {
          "iopub.status.busy": "2022-09-30T18:25:10.328921Z",
          "iopub.execute_input": "2022-09-30T18:25:10.329688Z",
          "iopub.status.idle": "2022-09-30T18:25:10.341701Z",
          "shell.execute_reply.started": "2022-09-30T18:25:10.329653Z",
          "shell.execute_reply": "2022-09-30T18:25:10.340375Z"
        },
        "trusted": true,
        "id": "9oik9SMI6HR0"
      },
      "execution_count": null,
      "outputs": []
    },
    {
      "cell_type": "code",
      "source": [
        "rank1 = set(ranking['Rank 1'].unique())\n",
        "rank2 = set(ranking['Rank 2'].unique())\n",
        "rank3 = set(ranking['Rank 3'].unique())\n",
        "\n",
        "app_list = rank1.union(rank2).union(rank3)\n",
        "print(app_list)"
      ],
      "metadata": {
        "execution": {
          "iopub.status.busy": "2022-09-30T18:25:10.706787Z",
          "iopub.execute_input": "2022-09-30T18:25:10.707242Z",
          "iopub.status.idle": "2022-09-30T18:25:10.716083Z",
          "shell.execute_reply.started": "2022-09-30T18:25:10.707208Z",
          "shell.execute_reply": "2022-09-30T18:25:10.714531Z"
        },
        "trusted": true,
        "id": "J-ToTjKN6HR1"
      },
      "execution_count": null,
      "outputs": []
    },
    {
      "cell_type": "code",
      "source": [
        "ex.bar(x=ranking['Rank 1'].value_counts().index,y=ranking['Rank 1'].value_counts().values,title='cout of apps in rank 1')"
      ],
      "metadata": {
        "execution": {
          "iopub.status.busy": "2022-09-30T18:29:27.541112Z",
          "iopub.execute_input": "2022-09-30T18:29:27.541468Z",
          "iopub.status.idle": "2022-09-30T18:29:27.596401Z",
          "shell.execute_reply.started": "2022-09-30T18:29:27.541444Z",
          "shell.execute_reply": "2022-09-30T18:29:27.59549Z"
        },
        "trusted": true,
        "id": "E73325hS6HR1"
      },
      "execution_count": null,
      "outputs": []
    },
    {
      "cell_type": "markdown",
      "source": [
        "most usad app in rank one is whats app"
      ],
      "metadata": {
        "id": "lw7TVPBP6HR1"
      }
    },
    {
      "cell_type": "code",
      "source": [
        "ex.bar(x=ranking['Rank 2'].value_counts().index,y=ranking['Rank 2'].value_counts().values,title='cout of apps in rank 2')"
      ],
      "metadata": {
        "execution": {
          "iopub.status.busy": "2022-09-30T18:29:43.346464Z",
          "iopub.execute_input": "2022-09-30T18:29:43.346792Z",
          "iopub.status.idle": "2022-09-30T18:29:43.40316Z",
          "shell.execute_reply.started": "2022-09-30T18:29:43.346768Z",
          "shell.execute_reply": "2022-09-30T18:29:43.402419Z"
        },
        "trusted": true,
        "id": "-q08i1Hw6HR2"
      },
      "execution_count": null,
      "outputs": []
    },
    {
      "cell_type": "markdown",
      "source": [
        "most app use in rank 2 is instgram"
      ],
      "metadata": {
        "id": "B-ECGZQ56HR2"
      }
    },
    {
      "cell_type": "code",
      "source": [
        "ex.bar(x=ranking['Rank 3'].value_counts().index,y=ranking['Rank 3'].value_counts().values,title='cout of apps in rank 3')"
      ],
      "metadata": {
        "execution": {
          "iopub.status.busy": "2022-09-30T18:30:45.76509Z",
          "iopub.execute_input": "2022-09-30T18:30:45.765478Z",
          "iopub.status.idle": "2022-09-30T18:30:45.8269Z",
          "shell.execute_reply.started": "2022-09-30T18:30:45.765451Z",
          "shell.execute_reply": "2022-09-30T18:30:45.824932Z"
        },
        "trusted": true,
        "id": "MWDvzqtk6HR2"
      },
      "execution_count": null,
      "outputs": []
    },
    {
      "cell_type": "markdown",
      "source": [
        "we chat is the 3rd in use"
      ],
      "metadata": {
        "id": "yprbG5LP6HR2"
      }
    },
    {
      "cell_type": "code",
      "source": [
        "col=[]\n",
        "for i in app_list:\n",
        "    for name in df.columns:\n",
        "        if i in name:\n",
        "            col.append(name)\n",
        "    print(col)\n",
        "    ranking[i]=df[col].sum(axis=1)\n",
        "    col=[]\n",
        "ranking.head(5)"
      ],
      "metadata": {
        "execution": {
          "iopub.status.busy": "2022-09-30T18:31:25.36547Z",
          "iopub.execute_input": "2022-09-30T18:31:25.365798Z",
          "iopub.status.idle": "2022-09-30T18:31:25.404503Z",
          "shell.execute_reply.started": "2022-09-30T18:31:25.365774Z",
          "shell.execute_reply": "2022-09-30T18:31:25.402849Z"
        },
        "trusted": true,
        "id": "3ygSVK_v6HR6"
      },
      "execution_count": null,
      "outputs": []
    },
    {
      "cell_type": "code",
      "source": [
        "ranking.drop(['Rank 1', 'Rank 2', 'Rank 3'],axis=1,inplace=True)\n",
        "ranking.columns"
      ],
      "metadata": {
        "execution": {
          "iopub.status.busy": "2022-09-30T18:31:37.492291Z",
          "iopub.execute_input": "2022-09-30T18:31:37.492668Z",
          "iopub.status.idle": "2022-09-30T18:31:37.503073Z",
          "shell.execute_reply.started": "2022-09-30T18:31:37.492643Z",
          "shell.execute_reply": "2022-09-30T18:31:37.501247Z"
        },
        "trusted": true,
        "id": "LO-lZPrc6HR7"
      },
      "execution_count": null,
      "outputs": []
    },
    {
      "cell_type": "code",
      "source": [
        "dic={}\n",
        "g=ranking.drop(['Date '],axis=1)\n",
        "for i in g.columns:\n",
        "    a=g[i].sum()\n",
        "    dic[i]=a\n",
        "print(dic)\n",
        "df=pd.DataFrame.from_dict(dic, orient='index')\n",
        "df.index.rename('App',inplace=True)\n",
        "df.rename(columns={0:'sum'},inplace=True)\n",
        "df.columns"
      ],
      "metadata": {
        "execution": {
          "iopub.status.busy": "2022-09-30T18:31:37.915066Z",
          "iopub.execute_input": "2022-09-30T18:31:37.915436Z",
          "iopub.status.idle": "2022-09-30T18:31:37.928644Z",
          "shell.execute_reply.started": "2022-09-30T18:31:37.91541Z",
          "shell.execute_reply": "2022-09-30T18:31:37.927066Z"
        },
        "trusted": true,
        "id": "HF0W0rRN6HR8"
      },
      "execution_count": null,
      "outputs": []
    },
    {
      "cell_type": "code",
      "source": [
        "df=df.sort_values('sum',ascending=False)\n",
        "df.reset_index(inplace=True)"
      ],
      "metadata": {
        "execution": {
          "iopub.status.busy": "2022-09-30T18:31:38.79765Z",
          "iopub.execute_input": "2022-09-30T18:31:38.797974Z",
          "iopub.status.idle": "2022-09-30T18:31:38.806228Z",
          "shell.execute_reply.started": "2022-09-30T18:31:38.79795Z",
          "shell.execute_reply": "2022-09-30T18:31:38.804071Z"
        },
        "trusted": true,
        "id": "aCaU1eh26HR8"
      },
      "execution_count": null,
      "outputs": []
    },
    {
      "cell_type": "code",
      "source": [
        "ex.pie(names=df.App,values=df ['sum'])"
      ],
      "metadata": {
        "execution": {
          "iopub.status.busy": "2022-09-30T18:31:41.279848Z",
          "iopub.execute_input": "2022-09-30T18:31:41.28102Z",
          "iopub.status.idle": "2022-09-30T18:31:41.328491Z",
          "shell.execute_reply.started": "2022-09-30T18:31:41.280964Z",
          "shell.execute_reply": "2022-09-30T18:31:41.327019Z"
        },
        "trusted": true,
        "id": "zBkwyElM6HR8"
      },
      "execution_count": null,
      "outputs": []
    },
    {
      "cell_type": "markdown",
      "source": [
        "most uased app is whats app in all ranks"
      ],
      "metadata": {
        "id": "R5bJ7PVr6HR9"
      }
    },
    {
      "cell_type": "markdown",
      "source": [
        "# over all"
      ],
      "metadata": {
        "id": "30yJ8jcS6HR-"
      }
    },
    {
      "cell_type": "code",
      "source": [
        "over=pd.read_csv('/kaggle/input/analyzing-screen-time/Screentime - Overall Usage.csv')\n",
        "print(over.columns)\n",
        "over.head()\n"
      ],
      "metadata": {
        "execution": {
          "iopub.status.busy": "2022-09-30T18:40:41.227382Z",
          "iopub.execute_input": "2022-09-30T18:40:41.227712Z",
          "iopub.status.idle": "2022-09-30T18:40:41.251115Z",
          "shell.execute_reply.started": "2022-09-30T18:40:41.227687Z",
          "shell.execute_reply": "2022-09-30T18:40:41.248722Z"
        },
        "trusted": true,
        "id": "sPgRTMcM6HR-"
      },
      "execution_count": null,
      "outputs": []
    },
    {
      "cell_type": "code",
      "source": [
        "plt.figure (figsize=(20,5))\n",
        "plt.subplot(121)\n",
        "\n",
        "sb.scatterplot(x=over.Notifications,y=over.Unlocks)\n",
        "plt.subplot(122)\n",
        "sb.scatterplot(x=over.Notifications,y=over['Total Usage'])\n",
        "plt.show()"
      ],
      "metadata": {
        "execution": {
          "iopub.status.busy": "2022-09-30T18:48:01.910021Z",
          "iopub.execute_input": "2022-09-30T18:48:01.910382Z",
          "iopub.status.idle": "2022-09-30T18:48:02.154079Z",
          "shell.execute_reply.started": "2022-09-30T18:48:01.910357Z",
          "shell.execute_reply": "2022-09-30T18:48:02.153311Z"
        },
        "trusted": true,
        "id": "e_xnsztz6HR_"
      },
      "execution_count": null,
      "outputs": []
    },
    {
      "cell_type": "markdown",
      "source": [
        "# **summary**"
      ],
      "metadata": {
        "id": "xh_W49Uo6HSA"
      }
    },
    {
      "cell_type": "markdown",
      "source": [
        "most usage app is whatsapp then instgram then wechat                                                                                \n",
        "app usage is direct proportional with notifications                                                                                  \n",
        "Both total usage and unlocks are correlated with the number of notifications\n",
        "\n"
      ],
      "metadata": {
        "id": "be6IVDkE6HSA"
      }
    },
    {
      "cell_type": "code",
      "source": [],
      "metadata": {
        "id": "pHEbQji86HSA"
      },
      "execution_count": null,
      "outputs": []
    }
  ]
}
